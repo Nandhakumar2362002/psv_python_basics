{
 "cells": [
  {
   "cell_type": "code",
   "execution_count": 6,
   "metadata": {},
   "outputs": [
    {
     "name": "stdout",
     "output_type": "stream",
     "text": [
      "hello world\n"
     ]
    }
   ],
   "source": [
    "print('hello world')"
   ]
  },
  {
   "cell_type": "code",
   "execution_count": 5,
   "metadata": {},
   "outputs": [
    {
     "name": "stdout",
     "output_type": "stream",
     "text": [
      "7.0\n"
     ]
    }
   ],
   "source": [
    "a=5\n",
    "b=3\n",
    "c=3\n",
    "d=(a+b*c)/2\n",
    "print(d)"
   ]
  },
  {
   "cell_type": "code",
   "execution_count": 34,
   "metadata": {},
   "outputs": [
    {
     "name": "stdout",
     "output_type": "stream",
     "text": [
      "<class 'str'>\n",
      "<class 'int'>\n",
      "<class 'float'>\n",
      "<class 'complex'>\n"
     ]
    }
   ],
   "source": [
    "a=5\n",
    "b=3.5\n",
    "c=3+5j\n",
    "d='perarasan'\n",
    "print(type(d))\n",
    "print(type(a))\n",
    "print(type(b))\n",
    "print(type(c))"
   ]
  },
  {
   "cell_type": "code",
   "execution_count": 2,
   "metadata": {},
   "outputs": [
    {
     "name": "stdout",
     "output_type": "stream",
     "text": [
      "perarasan\n",
      "name: perarasan\n"
     ]
    }
   ],
   "source": [
    "print('name:',input())"
   ]
  },
  {
   "cell_type": "code",
   "execution_count": 21,
   "metadata": {},
   "outputs": [
    {
     "name": "stdout",
     "output_type": "stream",
     "text": [
      "<class 'int'>\n"
     ]
    }
   ],
   "source": [
    "fees=435\n",
    "print(type(fees))"
   ]
  },
  {
   "cell_type": "code",
   "execution_count": 1,
   "metadata": {},
   "outputs": [
    {
     "name": "stdout",
     "output_type": "stream",
     "text": [
      "0\n",
      "1\n",
      "2\n",
      "3\n",
      "4\n",
      "5\n",
      "6\n",
      "7\n",
      "8\n",
      "9\n"
     ]
    }
   ],
   "source": [
    "for i in range(10):\n",
    "    print(i)"
   ]
  },
  {
   "cell_type": "raw",
   "metadata": {},
   "source": []
  },
  {
   "cell_type": "code",
   "execution_count": 3,
   "metadata": {},
   "outputs": [
    {
     "name": "stdout",
     "output_type": "stream",
     "text": [
      "hello world.\n",
      "hello world.\n",
      "hello world.\n",
      "hello world.\n",
      "hello world.\n",
      "hello world.\n",
      "hello world.\n",
      "hello world.\n",
      "hello world.\n",
      "hello world.\n",
      "hello world.\n"
     ]
    }
   ],
   "source": [
    "var=0\n",
    "while var<=10:\n",
    "    print('hello world.')\n",
    "    var=var+1"
   ]
  },
  {
   "cell_type": "code",
   "execution_count": 4,
   "metadata": {},
   "outputs": [
    {
     "name": "stdout",
     "output_type": "stream",
     "text": [
      "s\n"
     ]
    }
   ],
   "source": [
    "a='perarasan'\n",
    "print(a[6])"
   ]
  },
  {
   "cell_type": "code",
   "execution_count": 10,
   "metadata": {},
   "outputs": [
    {
     "name": "stdout",
     "output_type": "stream",
     "text": [
      "Hello world! 10\n"
     ]
    }
   ],
   "source": [
    " x=10\n",
    " print('Hello world!', x)\n",
    "\n"
   ]
  },
  {
   "cell_type": "code",
   "execution_count": 11,
   "metadata": {},
   "outputs": [
    {
     "data": {
      "text/plain": [
       "False"
      ]
     },
     "execution_count": 11,
     "metadata": {},
     "output_type": "execute_result"
    }
   ],
   "source": [
    " 71 == 70"
   ]
  },
  {
   "cell_type": "code",
   "execution_count": 12,
   "metadata": {},
   "outputs": [
    {
     "data": {
      "text/plain": [
       "'14'"
      ]
     },
     "execution_count": 12,
     "metadata": {},
     "output_type": "execute_result"
    }
   ],
   "source": [
    "str(14)"
   ]
  },
  {
   "cell_type": "code",
   "execution_count": 13,
   "metadata": {},
   "outputs": [
    {
     "name": "stdout",
     "output_type": "stream",
     "text": [
      "He is 14 years old\n"
     ]
    }
   ],
   "source": [
    " print('He is {} years old'.format(str(14))) "
   ]
  },
  {
   "cell_type": "code",
   "execution_count": 14,
   "metadata": {},
   "outputs": [
    {
     "data": {
      "text/plain": [
       "6"
      ]
     },
     "execution_count": 14,
     "metadata": {},
     "output_type": "execute_result"
    }
   ],
   "source": [
    " int(6.7) "
   ]
  },
  {
   "cell_type": "code",
   "execution_count": 15,
   "metadata": {},
   "outputs": [
    {
     "data": {
      "text/plain": [
       "False"
      ]
     },
     "execution_count": 15,
     "metadata": {},
     "output_type": "execute_result"
    }
   ],
   "source": [
    "40==41"
   ]
  },
  {
   "cell_type": "code",
   "execution_count": 16,
   "metadata": {},
   "outputs": [
    {
     "data": {
      "text/plain": [
       "True"
      ]
     },
     "execution_count": 16,
     "metadata": {},
     "output_type": "execute_result"
    }
   ],
   "source": [
    "50==50.0\n"
   ]
  },
  {
   "cell_type": "code",
   "execution_count": 17,
   "metadata": {},
   "outputs": [
    {
     "data": {
      "text/plain": [
       "True"
      ]
     },
     "execution_count": 17,
     "metadata": {},
     "output_type": "execute_result"
    }
   ],
   "source": [
    "'man'=='man'"
   ]
  },
  {
   "cell_type": "code",
   "execution_count": 18,
   "metadata": {},
   "outputs": [
    {
     "data": {
      "text/plain": [
       "False"
      ]
     },
     "execution_count": 18,
     "metadata": {},
     "output_type": "execute_result"
    }
   ],
   "source": [
    "'man'=='MAN'"
   ]
  },
  {
   "cell_type": "code",
   "execution_count": 19,
   "metadata": {},
   "outputs": [
    {
     "data": {
      "text/plain": [
       "True"
      ]
     },
     "execution_count": 19,
     "metadata": {},
     "output_type": "execute_result"
    }
   ],
   "source": [
    " (43< 57) and (3 < 9)"
   ]
  },
  {
   "cell_type": "code",
   "execution_count": 22,
   "metadata": {},
   "outputs": [
    {
     "data": {
      "text/plain": [
       "True"
      ]
     },
     "execution_count": 22,
     "metadata": {},
     "output_type": "execute_result"
    }
   ],
   "source": [
    "(1 == 3) or (4 == 4)"
   ]
  },
  {
   "cell_type": "code",
   "execution_count": 26,
   "metadata": {},
   "outputs": [
    {
     "data": {
      "text/plain": [
       "True"
      ]
     },
     "execution_count": 26,
     "metadata": {},
     "output_type": "execute_result"
    }
   ],
   "source": [
    "2 + 2 == 4 and not 2 + 2 == 6 and 2 * 2 == 2 + 2"
   ]
  },
  {
   "cell_type": "code",
   "execution_count": 27,
   "metadata": {},
   "outputs": [
    {
     "name": "stdout",
     "output_type": "stream",
     "text": [
      "Hello, Peter\n"
     ]
    }
   ],
   "source": [
    "name = 'Peter'\n",
    "if name == 'Peter':\n",
    "    print('Hello, Peter')\n"
   ]
  },
  {
   "cell_type": "code",
   "execution_count": 28,
   "metadata": {},
   "outputs": [
    {
     "name": "stdout",
     "output_type": "stream",
     "text": [
      "Hello, anonymous\n"
     ]
    }
   ],
   "source": [
    "name = 'Mike'\n",
    "if name == 'Peter':\n",
    "    print('Hello, Peter.')\n",
    "else:\n",
    "    print('Hello, anonymous')\n"
   ]
  },
  {
   "cell_type": "code",
   "execution_count": 31,
   "metadata": {},
   "outputs": [
    {
     "name": "stdout",
     "output_type": "stream",
     "text": [
      "Your age is less than 10\n",
      "Your age is more than 10\n"
     ]
    }
   ],
   "source": [
    "name = 'Mike'\n",
    "age = 5\n",
    "if name == 'Peter':\n",
    "    print('Hi, Peter.') \n",
    "elif age < 10:\n",
    "    print('Your age is less than 10')\n",
    "name = 'Mike' \n",
    "age = 30\n",
    "if name == 'Peter':\n",
    "    print('Hello, Peter.')\n",
    "elif age < 10:\n",
    "    print('Your age is less than 12')\n",
    "else:\n",
    "    print('Your age is more than 10')\n"
   ]
  },
  {
   "cell_type": "code",
   "execution_count": 32,
   "metadata": {},
   "outputs": [
    {
     "name": "stdout",
     "output_type": "stream",
     "text": [
      "Hello, world.\n",
      "Hello, world.\n",
      "Hello, world.\n",
      "Hello, world.\n",
      "Hello, world.\n",
      "Hello, world.\n",
      "Hello, world.\n",
      "Hello, world.\n",
      "Hello, world.\n",
      "Hello, world.\n"
     ]
    }
   ],
   "source": [
    "var = 0 \n",
    "while var < 10:\n",
    "    print('Hello, world.') \n",
    "    var = var + 1\n"
   ]
  },
  {
   "cell_type": "code",
   "execution_count": 35,
   "metadata": {},
   "outputs": [
    {
     "name": "stdout",
     "output_type": "stream",
     "text": [
      "This block of code is running...\n",
      "This block of code is running...\n",
      "This block of code is running...\n",
      "This block of code is running...\n",
      "This block of code is running...\n",
      "This block of code is running...\n",
      "This block of code is running...\n",
      "This block of code is running...\n",
      "This block of code is running...\n",
      "This block of code is running...\n",
      "Loop exited\n"
     ]
    }
   ],
   "source": [
    "var = 1\n",
    "while True:\n",
    "    print('This block of code is running...')\n",
    "    if var == 10:\n",
    "        break\n",
    "    var += 1\n",
    "print('Loop exited')\n"
   ]
  },
  {
   "cell_type": "code",
   "execution_count": 37,
   "metadata": {},
   "outputs": [
    {
     "name": "stdout",
     "output_type": "stream",
     "text": [
      "This block of code is running for number...  1\n",
      "This block of code is running for number...  2\n",
      "This block of code is running for number...  3\n",
      "This block of code is running for number...  4\n",
      "This block of code is running for number...  6\n",
      "This block of code is running for number...  7\n",
      "This block of code is running for number...  8\n",
      "This block of code is running for number...  9\n",
      "This block of code is running for number...  10\n",
      "This block of code is running for number...  11\n",
      "Loop exited\n"
     ]
    }
   ],
   "source": [
    "var = 0\n",
    "while var <= 10:\n",
    "    var += 1\n",
    "    if var == 5: \n",
    "        continue\n",
    "    print('This block of code is running for number... ', var)\n",
    "print('Loop exited')\n",
    "\n"
   ]
  },
  {
   "cell_type": "code",
   "execution_count": 38,
   "metadata": {},
   "outputs": [
    {
     "name": "stdout",
     "output_type": "stream",
     "text": [
      "Loop running...\n",
      "Loop running...\n",
      "Loop running...\n",
      "Loop running...\n",
      "Loop running...\n",
      "Loop running...\n",
      "Loop running...\n",
      "Loop running...\n",
      "Loop running...\n",
      "Loop exited\n"
     ]
    }
   ],
   "source": [
    "for var in range(1, 10):\n",
    "    print(\"Loop running...\")\n",
    "print('Loop exited')\n"
   ]
  },
  {
   "cell_type": "code",
   "execution_count": 39,
   "metadata": {},
   "outputs": [
    {
     "name": "stdout",
     "output_type": "stream",
     "text": [
      "Loop running with step size of 2...\n",
      "Loop running with step size of 2...\n",
      "Loop running with step size of 2...\n",
      "Loop running with step size of 2...\n",
      "Loop running with step size of 2...\n",
      "Loop running with step size of 2...\n",
      "Loop running with step size of 2...\n",
      "Loop running with step size of 2...\n",
      "Loop running with step size of 2...\n",
      "Loop running with step size of 2...\n",
      "Loop exited\n"
     ]
    }
   ],
   "source": [
    "for var in range(1, 20, 2):\n",
    "    print(\"Loop running with step size of 2...\")\n",
    "print('Loop exited')\n"
   ]
  },
  {
   "cell_type": "code",
   "execution_count": 46,
   "metadata": {},
   "outputs": [
    {
     "name": "stdout",
     "output_type": "stream",
     "text": [
      "This is even integer\n",
      "This is even integer\n",
      "This is even integer\n",
      "This is even integer\n",
      "This is even integer\n",
      "This is odd integer\n",
      "Loop exited\n"
     ]
    }
   ],
   "source": [
    "for var in range(1, 11):\n",
    "    if(var%2==0):\n",
    "        print(\"This is even integer\") \n",
    "else:\n",
    "    print(\"This is odd integer\")\n",
    "print('Loop exited')"
   ]
  },
  {
   "cell_type": "code",
   "execution_count": 47,
   "metadata": {},
   "outputs": [
    {
     "name": "stdout",
     "output_type": "stream",
     "text": [
      "Random integer is 20\n",
      "Random integer is 30\n",
      "Random integer is 2\n",
      "Random integer is 6\n",
      "Random integer is 30\n"
     ]
    }
   ],
   "source": [
    "import random\n",
    "for i in range(5):\n",
    "    print(\"Random integer is\", random.randint(1, 30))\n"
   ]
  },
  {
   "cell_type": "code",
   "execution_count": 50,
   "metadata": {},
   "outputs": [
    {
     "name": "stdout",
     "output_type": "stream",
     "text": [
      "Counter({1: 2, 5: 2, 2: 1, 3: 1, 4: 1})\n"
     ]
    }
   ],
   "source": [
    "from collections import Counter\n",
    "List = [1, 2, 3, 4, 5, 5, 1]\n",
    "Cnt = Counter(List)\n",
    "print(Cnt)\n"
   ]
  },
  {
   "cell_type": "code",
   "execution_count": 51,
   "metadata": {},
   "outputs": [
    {
     "name": "stdout",
     "output_type": "stream",
     "text": [
      "Number is odd\n"
     ]
    }
   ],
   "source": [
    "def checkParity(num):\n",
    "    if(num % 2 == 0):\n",
    "        print(\"Number is even\")\n",
    "    else:\n",
    "        print(\"Number is odd\")\n",
    "num = 5 \n",
    "checkParity(num)\n"
   ]
  },
  {
   "cell_type": "code",
   "execution_count": 55,
   "metadata": {},
   "outputs": [
    {
     "name": "stdout",
     "output_type": "stream",
     "text": [
      "Number is even\n"
     ]
    }
   ],
   "source": [
    "def checkParity(num):\n",
    "    if(num % 2 == 0):\n",
    "        return \"Number is even\"\n",
    "    else:\n",
    "        return \"Number is odd\"\n",
    "num = 4 \n",
    "parity = checkParity(num)\n",
    "print(parity)"
   ]
  },
  {
   "cell_type": "code",
   "execution_count": 56,
   "metadata": {},
   "outputs": [
    {
     "name": "stdout",
     "output_type": "stream",
     "text": [
      "Cannot divide by 0\n",
      "Division finished\n"
     ]
    }
   ],
   "source": [
    "def divideBy(num):\n",
    "    try:\n",
    "        print(10 / num)\n",
    "    except:\n",
    "        print(\"Cannot divide by 0\")\n",
    "    finally:\n",
    "        print(\"Division finished\")\n",
    "num = 0\n",
    "divideBy(num)\n"
   ]
  },
  {
   "cell_type": "code",
   "execution_count": 57,
   "metadata": {},
   "outputs": [
    {
     "name": "stdout",
     "output_type": "stream",
     "text": [
      "David is 10 years old\n",
      "Mike is 31 years old\n",
      "Tommy is 54 years old\n"
     ]
    }
   ],
   "source": [
    "name = ['David', 'Mike', 'Tommy'] \n",
    "age = [10, 31, 54]\n",
    "for n, a in zip(name, age):\n",
    "    print('{} is {} years old'.format(n, a))\n"
   ]
  },
  {
   "cell_type": "code",
   "execution_count": 59,
   "metadata": {},
   "outputs": [
    {
     "data": {
      "text/plain": [
       "True"
      ]
     },
     "execution_count": 59,
     "metadata": {},
     "output_type": "execute_result"
    }
   ],
   "source": [
    " 'pen' in ['cap', 'owl', 'pen', 'rubber'] "
   ]
  },
  {
   "cell_type": "code",
   "execution_count": 60,
   "metadata": {},
   "outputs": [
    {
     "data": {
      "text/plain": [
       "1"
      ]
     },
     "execution_count": 60,
     "metadata": {},
     "output_type": "execute_result"
    }
   ],
   "source": [
    "list = ['notebook', 'pen', 'eraser', 'sharpener']\n",
    "list.index('pen')\n"
   ]
  },
  {
   "cell_type": "code",
   "execution_count": 61,
   "metadata": {},
   "outputs": [
    {
     "data": {
      "text/plain": [
       "['car', 'truck', 'bike', 'bicycle']"
      ]
     },
     "execution_count": 61,
     "metadata": {},
     "output_type": "execute_result"
    }
   ],
   "source": [
    "list = ['car', 'truck', 'bike']\n",
    "list.append('bicycle')\n",
    "list"
   ]
  },
  {
   "cell_type": "code",
   "execution_count": null,
   "metadata": {},
   "outputs": [],
   "source": []
  }
 ],
 "metadata": {
  "kernelspec": {
   "display_name": "Python 3",
   "language": "python",
   "name": "python3"
  },
  "language_info": {
   "codemirror_mode": {
    "name": "ipython",
    "version": 3
   },
   "file_extension": ".py",
   "mimetype": "text/x-python",
   "name": "python",
   "nbconvert_exporter": "python",
   "pygments_lexer": "ipython3",
   "version": "3.8.3"
  }
 },
 "nbformat": 4,
 "nbformat_minor": 4
}
